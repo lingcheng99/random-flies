{
 "cells": [
  {
   "cell_type": "code",
   "execution_count": 1,
   "metadata": {
    "collapsed": false
   },
   "outputs": [
    {
     "name": "stderr",
     "output_type": "stream",
     "text": [
      "//anaconda/lib/python2.7/site-packages/pandas/computation/__init__.py:19: UserWarning: The installed version of numexpr 2.4.4 is not supported in pandas and will be not be used\n",
      "\n",
      "  UserWarning)\n"
     ]
    }
   ],
   "source": [
    "import numpy as np\n",
    "import pandas as pd\n",
    "import pyprind\n",
    "from skfeature.function.information_theoretical_based import FCBF\n",
    "from sklearn.ensemble import RandomForestClassifier\n",
    "from sklearn.cross_validation import KFold, train_test_split,cross_val_score\n",
    "from sklearn import metrics\n",
    "from sklearn.preprocessing import LabelEncoder"
   ]
  },
  {
   "cell_type": "code",
   "execution_count": 2,
   "metadata": {
    "collapsed": false
   },
   "outputs": [
    {
     "data": {
      "text/plain": [
       "(1869, 183)"
      ]
     },
     "execution_count": 2,
     "metadata": {},
     "output_type": "execute_result"
    }
   ],
   "source": [
    "df_clicks = pd.read_csv('dataset/dataset_clicks.csv')\n",
    "df_clicks.shape"
   ]
  },
  {
   "cell_type": "code",
   "execution_count": 3,
   "metadata": {
    "collapsed": false
   },
   "outputs": [
    {
     "data": {
      "text/html": [
       "<div>\n",
       "<table border=\"1\" class=\"dataframe\">\n",
       "  <thead>\n",
       "    <tr style=\"text-align: right;\">\n",
       "      <th></th>\n",
       "      <th>Unnamed: 0</th>\n",
       "      <th>transaction_id</th>\n",
       "      <th>clicks</th>\n",
       "      <th>click_conversions</th>\n",
       "      <th>click_conversions_type00</th>\n",
       "      <th>click_conversions_type10</th>\n",
       "      <th>click_conversions_type20</th>\n",
       "      <th>click_conversions_type30</th>\n",
       "      <th>click_conversions_type40</th>\n",
       "      <th>day_id</th>\n",
       "      <th>...</th>\n",
       "      <th>day_spend_flag</th>\n",
       "      <th>spend_hours</th>\n",
       "      <th>hour_spend_flag</th>\n",
       "      <th>conversions</th>\n",
       "      <th>keyword_with_data_provider_id</th>\n",
       "      <th>keyword_with_data_provider</th>\n",
       "      <th>dtime</th>\n",
       "      <th>N</th>\n",
       "      <th>financial_reward</th>\n",
       "      <th>state</th>\n",
       "    </tr>\n",
       "  </thead>\n",
       "  <tbody>\n",
       "    <tr>\n",
       "      <th>0</th>\n",
       "      <td>0</td>\n",
       "      <td>dalbid10:9001-1445835989077-80358478</td>\n",
       "      <td>1</td>\n",
       "      <td>1</td>\n",
       "      <td>0</td>\n",
       "      <td>0</td>\n",
       "      <td>0</td>\n",
       "      <td>0</td>\n",
       "      <td>1</td>\n",
       "      <td>5777</td>\n",
       "      <td>...</td>\n",
       "      <td>111111111111111111111111</td>\n",
       "      <td>24</td>\n",
       "      <td>1</td>\n",
       "      <td>1.0</td>\n",
       "      <td>95462170509699,0</td>\n",
       "      <td>click_adx_product_category_id10004,data provid...</td>\n",
       "      <td>2015-10-26 00:00:00</td>\n",
       "      <td>1</td>\n",
       "      <td>0.001</td>\n",
       "      <td>1</td>\n",
       "    </tr>\n",
       "    <tr>\n",
       "      <th>1</th>\n",
       "      <td>1</td>\n",
       "      <td>dalbid10:9005-1445683160227-105266</td>\n",
       "      <td>1</td>\n",
       "      <td>0</td>\n",
       "      <td>0</td>\n",
       "      <td>0</td>\n",
       "      <td>0</td>\n",
       "      <td>0</td>\n",
       "      <td>0</td>\n",
       "      <td>5775</td>\n",
       "      <td>...</td>\n",
       "      <td>000001111111111111111111</td>\n",
       "      <td>19</td>\n",
       "      <td>1</td>\n",
       "      <td>0.0</td>\n",
       "      <td>273897345864242,32</td>\n",
       "      <td>!squash,data provider (32)</td>\n",
       "      <td>2015-10-24 05:00:00</td>\n",
       "      <td>1</td>\n",
       "      <td>0.000</td>\n",
       "      <td>1</td>\n",
       "    </tr>\n",
       "    <tr>\n",
       "      <th>2</th>\n",
       "      <td>2</td>\n",
       "      <td>dalbid10:9005-1446305222448-17044177</td>\n",
       "      <td>1</td>\n",
       "      <td>0</td>\n",
       "      <td>0</td>\n",
       "      <td>0</td>\n",
       "      <td>0</td>\n",
       "      <td>0</td>\n",
       "      <td>0</td>\n",
       "      <td>5782</td>\n",
       "      <td>...</td>\n",
       "      <td>000000011111111111111111</td>\n",
       "      <td>17</td>\n",
       "      <td>1</td>\n",
       "      <td>0.0</td>\n",
       "      <td>226494609376214,78</td>\n",
       "      <td>ticket,data provider (78)</td>\n",
       "      <td>2015-10-31 10:00:00</td>\n",
       "      <td>1</td>\n",
       "      <td>0.000</td>\n",
       "      <td>1</td>\n",
       "    </tr>\n",
       "    <tr>\n",
       "      <th>3</th>\n",
       "      <td>3</td>\n",
       "      <td>dalbid10:9010-1446633477424-111930266</td>\n",
       "      <td>1</td>\n",
       "      <td>0</td>\n",
       "      <td>0</td>\n",
       "      <td>0</td>\n",
       "      <td>0</td>\n",
       "      <td>0</td>\n",
       "      <td>0</td>\n",
       "      <td>5786</td>\n",
       "      <td>...</td>\n",
       "      <td>111111111111111111111111</td>\n",
       "      <td>24</td>\n",
       "      <td>1</td>\n",
       "      <td>0.0</td>\n",
       "      <td>203638391889945,186</td>\n",
       "      <td>!breakfast,data provider (186)</td>\n",
       "      <td>2015-11-04 04:00:00</td>\n",
       "      <td>1</td>\n",
       "      <td>0.000</td>\n",
       "      <td>1</td>\n",
       "    </tr>\n",
       "    <tr>\n",
       "      <th>4</th>\n",
       "      <td>4</td>\n",
       "      <td>dalbid10:9011-1445964829909-18114437</td>\n",
       "      <td>1</td>\n",
       "      <td>0</td>\n",
       "      <td>0</td>\n",
       "      <td>0</td>\n",
       "      <td>0</td>\n",
       "      <td>0</td>\n",
       "      <td>0</td>\n",
       "      <td>5778</td>\n",
       "      <td>...</td>\n",
       "      <td>000000000111111111111111</td>\n",
       "      <td>15</td>\n",
       "      <td>1</td>\n",
       "      <td>0.0</td>\n",
       "      <td>249295749573107,186</td>\n",
       "      <td>beans,data provider (186)</td>\n",
       "      <td>2015-10-27 11:00:00</td>\n",
       "      <td>1</td>\n",
       "      <td>0.000</td>\n",
       "      <td>1</td>\n",
       "    </tr>\n",
       "  </tbody>\n",
       "</table>\n",
       "<p>5 rows × 183 columns</p>\n",
       "</div>"
      ],
      "text/plain": [
       "   Unnamed: 0                         transaction_id  clicks  \\\n",
       "0           0   dalbid10:9001-1445835989077-80358478       1   \n",
       "1           1     dalbid10:9005-1445683160227-105266       1   \n",
       "2           2   dalbid10:9005-1446305222448-17044177       1   \n",
       "3           3  dalbid10:9010-1446633477424-111930266       1   \n",
       "4           4   dalbid10:9011-1445964829909-18114437       1   \n",
       "\n",
       "   click_conversions  click_conversions_type00  click_conversions_type10  \\\n",
       "0                  1                         0                         0   \n",
       "1                  0                         0                         0   \n",
       "2                  0                         0                         0   \n",
       "3                  0                         0                         0   \n",
       "4                  0                         0                         0   \n",
       "\n",
       "   click_conversions_type20  click_conversions_type30  \\\n",
       "0                         0                         0   \n",
       "1                         0                         0   \n",
       "2                         0                         0   \n",
       "3                         0                         0   \n",
       "4                         0                         0   \n",
       "\n",
       "   click_conversions_type40  day_id  ...              day_spend_flag  \\\n",
       "0                         1    5777  ...    111111111111111111111111   \n",
       "1                         0    5775  ...    000001111111111111111111   \n",
       "2                         0    5782  ...    000000011111111111111111   \n",
       "3                         0    5786  ...    111111111111111111111111   \n",
       "4                         0    5778  ...    000000000111111111111111   \n",
       "\n",
       "   spend_hours  hour_spend_flag  conversions  keyword_with_data_provider_id  \\\n",
       "0           24                1          1.0               95462170509699,0   \n",
       "1           19                1          0.0             273897345864242,32   \n",
       "2           17                1          0.0             226494609376214,78   \n",
       "3           24                1          0.0            203638391889945,186   \n",
       "4           15                1          0.0            249295749573107,186   \n",
       "\n",
       "                          keyword_with_data_provider                dtime  N  \\\n",
       "0  click_adx_product_category_id10004,data provid...  2015-10-26 00:00:00  1   \n",
       "1                         !squash,data provider (32)  2015-10-24 05:00:00  1   \n",
       "2                          ticket,data provider (78)  2015-10-31 10:00:00  1   \n",
       "3                     !breakfast,data provider (186)  2015-11-04 04:00:00  1   \n",
       "4                          beans,data provider (186)  2015-10-27 11:00:00  1   \n",
       "\n",
       "   financial_reward  state  \n",
       "0             0.001      1  \n",
       "1             0.000      1  \n",
       "2             0.000      1  \n",
       "3             0.000      1  \n",
       "4             0.000      1  \n",
       "\n",
       "[5 rows x 183 columns]"
      ]
     },
     "execution_count": 3,
     "metadata": {},
     "output_type": "execute_result"
    }
   ],
   "source": [
    "df_clicks.head()"
   ]
  },
  {
   "cell_type": "markdown",
   "metadata": {},
   "source": [
    "## Prepare dataset\n",
    "\n",
    "This dataset has nearly 10 million rows and 182 columns. There is not much information on what each column means other than its name. The target variable 'clicks' has only 1869 rows with value of one, and the rest is zero. I chose to randomly sample 100,000 rows out of every 1 million rows as df_zero, and concat with df_clicks for modeling.\n",
    "\n",
    "To prepare dataframe for modeling, first drop all columns with null values. Separate columns into numerical variables (num_var) and categorical variables (cat_var). From preliminary modeling, I noticed both num_var and cat_var have some columns with many unique values and/or has 'id' in column names, indicating they could be unique identifiers. I chose to throw out such columns in cat_var with >100 unique values, and columns in num_var with >100 unique values and has 'id' in its name."
   ]
  },
  {
   "cell_type": "code",
   "execution_count": 4,
   "metadata": {
    "collapsed": true
   },
   "outputs": [],
   "source": [
    "def prepare_df(df_clicks,df_zero):\n",
    "    df = pd.concat([df_clicks,df_zero],axis=0,ignore_index=True)\n",
    "    #remove columns with null\n",
    "    df = df.dropna(axis=1)\n",
    "    print df.shape\n",
    "\n",
    "    #separate numerical and categorical variables\n",
    "    cols_total = df.columns\n",
    "    num_var = []\n",
    "    cat_var = []\n",
    "    for col in cols_total:\n",
    "        if df[col].dtype =='object':\n",
    "            cat_var.append(col)\n",
    "        else:\n",
    "            num_var.append(col)\n",
    "    print len(num_var), len(cat_var)\n",
    "\n",
    "    #check unique values in cat_var\n",
    "    for cat in cat_var:\n",
    "        print cat, len(df[cat].unique())\n",
    "\n",
    "    #threw away columns with more than 100 unique values\n",
    "    cat_var2=[]\n",
    "    for cat in cat_var:\n",
    "        if len(df[cat].unique())<100:\n",
    "            cat_var2.append(cat)\n",
    "    print len(cat_var2),len(cat_var)\n",
    "\n",
    "    #drop columns not in cat_Var2 and convert the rest with LabelEncoder()\n",
    "    df_new = df.copy()\n",
    "    for cat in cat_var:\n",
    "        if cat in cat_var2:\n",
    "            le = LabelEncoder()\n",
    "            unq_vals = df_new[cat].unique()\n",
    "            le.fit(unq_vals)\n",
    "            df_new[cat] = le.transform(df_new[cat])\n",
    "        else:\n",
    "            df_new.drop(cat,axis=1,inplace=True)\n",
    "\n",
    "    #drop numerical variables with 'id' in name and >100 unique values\n",
    "    for col in num_var:\n",
    "        if 'id' in col and len(df_new[col].unique())>100:\n",
    "            df_new.drop(col,axis=1,inplace=True)\n",
    "            print col\n",
    "\n",
    "    print df_new.shape\n",
    "    return df_new"
   ]
  },
  {
   "cell_type": "code",
   "execution_count": 8,
   "metadata": {
    "collapsed": false
   },
   "outputs": [
    {
     "name": "stdout",
     "output_type": "stream",
     "text": [
      "(500000, 183)\n",
      "(100000, 183)\n"
     ]
    }
   ],
   "source": [
    "#sample 1/10 or 100,000 for the first 1 million rows\n",
    "\n",
    "num = 500000\n",
    "temp = pd.read_csv('dataset/dataset.csv',skiprows=500000,\\\n",
    "                   nrows=num, names=df_clicks.columns,low_memory=False)\n",
    "print temp.shape\n",
    "df_zero1 = temp[temp['clicks']==0].sample(100000)\n",
    "print df_zero1.shape"
   ]
  },
  {
   "cell_type": "code",
   "execution_count": 9,
   "metadata": {
    "collapsed": false
   },
   "outputs": [
    {
     "name": "stdout",
     "output_type": "stream",
     "text": [
      "(101869, 105)\n",
      "52 53\n",
      "Unnamed: 0 101869\n",
      "transaction_id 1871\n",
      "city_id 3737\n",
      "postal_code 1034\n",
      "geo_fence_recency_id 12\n",
      "viewability 13\n",
      "view_conversions_type40 32\n",
      "date 38\n",
      "wday 14\n",
      "tday_id 4\n",
      "tday 19\n",
      "exchange 16\n",
      "exchange_margin 51\n",
      "campaign 79\n",
      "model_enabled 4\n",
      "campaign_status 13\n",
      "platform 22\n",
      "platform_id 28\n",
      "company 33\n",
      "company_id 36\n",
      "client 38\n",
      "client_id 39\n",
      "advertiser 40\n",
      "advertiser_id 20\n",
      "cost_type 2\n",
      "cost_type_id 2\n",
      "spend_type 5\n",
      "recency_config 8\n",
      "recency_config_id 5\n",
      "adx_category 2\n",
      "adx_category_id 2\n",
      "adx_product 2\n",
      "adx_product_category_id 2\n",
      "adx_product_category 2\n",
      "openx_category 2\n",
      "sifi_product_category_id 2\n",
      "sifi_product_category 2\n",
      "campaign_type 2\n",
      "spend_vs_perf 2\n",
      "domain 422\n",
      "data_provider 47\n",
      "is_advertiser 177\n",
      "ad 141\n",
      "ad_file_type 10\n",
      "ad_position 4\n",
      "segment 7\n",
      "browser 20\n",
      "os 18\n",
      "day_spend_flag 13\n",
      "conversions 7268\n",
      "keyword_with_data_provider_id 8008\n",
      "keyword_with_data_provider 1465\n",
      "dtime 571\n",
      "42 53\n",
      "campaign_id\n",
      "ad_id\n",
      "domain_id\n",
      "keyword_id\n",
      "context_id\n",
      "exchange_id\n",
      "segment_id\n",
      "mobile_app_id\n",
      "(101869, 86)\n"
     ]
    }
   ],
   "source": [
    "df_new1 = prepare_df(df_clicks,df_zero1)"
   ]
  },
  {
   "cell_type": "markdown",
   "metadata": {},
   "source": [
    "## Feature Selection with skfeature\n",
    "\n",
    "Use skfeature.FCBF for feature selection. This is a fast correlation-based filter solution, suitable for high-dimension data. \n",
    "Split data into 5 fold, run FCBF to select features, model with randomforest and get average of roc_auc_score as metrics. To my surprise, with less than 5 features, the roc_auc_score is already 1.0.\n",
    "\n",
    "Randomly sample another df_zero from row number 1 million to 2 million and run the model again. Got similar features and perfect score.\n",
    "\n",
    "Randomly sample another df_zero from row number 2 million to 3 million and run one of the model to get test score. Perfect score."
   ]
  },
  {
   "cell_type": "code",
   "execution_count": 10,
   "metadata": {
    "collapsed": true
   },
   "outputs": [],
   "source": [
    "def test_FCBF(df):\n",
    "    df_X = df.drop('clicks',axis=1)\n",
    "    X = df_X.values    # data\n",
    "    y = df['clicks']    # label\n",
    "    n_samples, n_features = X.shape\n",
    "    # split data into 5 folds\n",
    "    ss = KFold(n_samples, n_folds=5, shuffle=True)\n",
    "\n",
    "    # perform evaluation on classification task\n",
    "    num_fea = 20    # number of selected features\n",
    "    clf = RandomForestClassifier(n_estimators=100,n_jobs=-1)\n",
    "\n",
    "    score = 0.\n",
    "    for train, test in ss:\n",
    "        # obtain the index of each feature on the training set\n",
    "        idx = FCBF.fcbf(X[train], y[train], n_selected_features=num_fea)\n",
    "        print idx\n",
    "        # obtain the dataset on the selected features\n",
    "        features = X[:, idx[0:num_fea]]\n",
    "        features_names = df_X.columns[idx]\n",
    "\n",
    "        clf.fit(features[train], y[train])\n",
    "        #print clf.feature_importances_, cannot use df because dropped clicks\n",
    "        feature_importance = [format(x,'.2f') for x in clf.feature_importances_]\n",
    "        zip_feature = zip(features_names, feature_importance)\n",
    "        print sorted(zip_feature, key = lambda x: x[1], reverse=True)\n",
    "\n",
    "        # predict the class labels of test data\n",
    "        y_predict = clf.predict(features[test])\n",
    "\n",
    "        # obtain the classification accuracy on the test data\n",
    "        score+= metrics.roc_auc_score(y[test], y_predict)\n",
    "\n",
    "    # output the average classification accuracy over all 5 folds\n",
    "    print '\\nROC_AUC_Score:', float(score)/5"
   ]
  },
  {
   "cell_type": "code",
   "execution_count": 11,
   "metadata": {
    "collapsed": false
   },
   "outputs": [
    {
     "name": "stdout",
     "output_type": "stream",
     "text": [
      "[21 78 83 35]\n",
      "[('ad_position', '0.40'), ('spend_hours', '0.34'), ('imps', '0.26'), ('wday_id', '0.00')]\n",
      "[21 78 56 83 60 14]\n",
      "[('recency_config', '0.23'), ('imps', '0.20'), ('advertiser_id', '0.20'), ('spend_hours', '0.20'), ('ad_position', '0.17'), ('keyword_type_id', '0.00')]\n",
      "[21 78 83 81]\n",
      "[('ad_position', '0.37'), ('imps', '0.33'), ('spend_hours', '0.30'), ('os', '0.00')]\n",
      "[21 83 20 77]\n",
      "[('imps', '0.29'), ('spend', '0.26'), ('ad_file_type', '0.24'), ('spend_hours', '0.21')]\n",
      "[21 38 17]\n",
      "[('imps', '0.38'), ('viewability', '0.34'), ('exchange', '0.28')]\n",
      "\n",
      "ROC_AUC_Score: 1.0\n"
     ]
    }
   ],
   "source": [
    "test_FCBF(df_new1)"
   ]
  },
  {
   "cell_type": "markdown",
   "metadata": {},
   "source": []
  },
  {
   "cell_type": "code",
   "execution_count": 12,
   "metadata": {
    "collapsed": false
   },
   "outputs": [
    {
     "name": "stdout",
     "output_type": "stream",
     "text": [
      "(500000, 183)\n",
      "(100000, 183)\n"
     ]
    }
   ],
   "source": [
    "#sample 1/10 or 100,000 for row number after 1 million\n",
    "\n",
    "num = 500000\n",
    "temp = pd.read_csv('dataset/dataset.csv',skiprows=1000000,\\\n",
    "                   nrows=num, names=df_clicks.columns,low_memory=False)\n",
    "print temp.shape\n",
    "df_zero2 = temp[temp['clicks']==0].sample(100000)\n",
    "print df_zero2.shape"
   ]
  },
  {
   "cell_type": "code",
   "execution_count": 13,
   "metadata": {
    "collapsed": false
   },
   "outputs": [
    {
     "name": "stdout",
     "output_type": "stream",
     "text": [
      "(101869, 105)\n",
      "52 53\n",
      "Unnamed: 0 101869\n",
      "transaction_id 1871\n",
      "city_id 3762\n",
      "postal_code 1034\n",
      "geo_fence_recency_id 12\n",
      "viewability 13\n",
      "view_conversions_type40 32\n",
      "date 38\n",
      "wday 14\n",
      "tday_id 4\n",
      "tday 17\n",
      "exchange 16\n",
      "exchange_margin 51\n",
      "campaign 79\n",
      "model_enabled 4\n",
      "campaign_status 13\n",
      "platform 22\n",
      "platform_id 28\n",
      "company 33\n",
      "company_id 36\n",
      "client 38\n",
      "client_id 39\n",
      "advertiser 40\n",
      "advertiser_id 20\n",
      "cost_type 2\n",
      "cost_type_id 2\n",
      "spend_type 5\n",
      "recency_config 8\n",
      "recency_config_id 5\n",
      "adx_category 2\n",
      "adx_category_id 2\n",
      "adx_product 2\n",
      "adx_product_category_id 2\n",
      "adx_product_category 2\n",
      "openx_category 2\n",
      "sifi_product_category_id 2\n",
      "sifi_product_category 2\n",
      "campaign_type 2\n",
      "spend_vs_perf 2\n",
      "domain 409\n",
      "data_provider 47\n",
      "is_advertiser 179\n",
      "ad 141\n",
      "ad_file_type 10\n",
      "ad_position 4\n",
      "segment 7\n",
      "browser 19\n",
      "os 18\n",
      "day_spend_flag 13\n",
      "conversions 7245\n",
      "keyword_with_data_provider_id 7985\n",
      "keyword_with_data_provider 1465\n",
      "dtime 572\n",
      "42 53\n",
      "campaign_id\n",
      "ad_id\n",
      "domain_id\n",
      "keyword_id\n",
      "context_id\n",
      "exchange_id\n",
      "segment_id\n",
      "mobile_app_id\n",
      "(101869, 86)\n"
     ]
    }
   ],
   "source": [
    "df_new2 = prepare_df(df_clicks,df_zero2)"
   ]
  },
  {
   "cell_type": "code",
   "execution_count": 14,
   "metadata": {
    "collapsed": false
   },
   "outputs": [
    {
     "name": "stdout",
     "output_type": "stream",
     "text": [
      "[21 20 48  5]\n",
      "[('click_conversions_type40', '0.34'), ('campaign_status', '0.25'), ('imps', '0.24'), ('spend', '0.17')]\n",
      "[21 61 39]\n",
      "[('imps', '0.35'), ('recency_config_id', '0.34'), ('exchange_margin', '0.31')]\n",
      "[21 78 14 35]\n",
      "[('ad_position', '0.43'), ('imps', '0.40'), ('wday_id', '0.16'), ('keyword_type_id', '0.00')]\n",
      "[21 56 83]\n",
      "[('spend_hours', '0.35'), ('imps', '0.34'), ('advertiser_id', '0.31')]\n",
      "[21 83 77 79]\n",
      "[('ad_file_type', '0.34'), ('spend_hours', '0.25'), ('segment', '0.23'), ('imps', '0.18')]\n",
      "\n",
      "ROC_AUC_Score: 1.0\n"
     ]
    }
   ],
   "source": [
    "test_FCBF(df_new2)"
   ]
  },
  {
   "cell_type": "code",
   "execution_count": null,
   "metadata": {
    "collapsed": true
   },
   "outputs": [],
   "source": []
  },
  {
   "cell_type": "code",
   "execution_count": 15,
   "metadata": {
    "collapsed": false
   },
   "outputs": [
    {
     "name": "stdout",
     "output_type": "stream",
     "text": [
      "(500000, 183)\n",
      "(100000, 183)\n"
     ]
    }
   ],
   "source": [
    "#sample 1/10 or 100,000 for row number after 2 million as test set\n",
    "\n",
    "num = 500000\n",
    "temp = pd.read_csv('dataset/dataset.csv',skiprows=2000000,\\\n",
    "                   nrows=num, names=df_clicks.columns,low_memory=False)\n",
    "print temp.shape\n",
    "df_zero3 = temp[temp['clicks']==0].sample(100000)\n",
    "print df_zero3.shape"
   ]
  },
  {
   "cell_type": "code",
   "execution_count": 17,
   "metadata": {
    "collapsed": false
   },
   "outputs": [
    {
     "name": "stdout",
     "output_type": "stream",
     "text": [
      "(101869, 105)\n",
      "52 53\n",
      "Unnamed: 0 101869\n",
      "transaction_id 1871\n",
      "city_id 3750\n",
      "postal_code 1034\n",
      "geo_fence_recency_id 12\n",
      "viewability 13\n",
      "view_conversions_type40 32\n",
      "date 38\n",
      "wday 14\n",
      "tday_id 4\n",
      "tday 18\n",
      "exchange 16\n",
      "exchange_margin 51\n",
      "campaign 79\n",
      "model_enabled 4\n",
      "campaign_status 13\n",
      "platform 22\n",
      "platform_id 28\n",
      "company 33\n",
      "company_id 36\n",
      "client 38\n",
      "client_id 39\n",
      "advertiser 40\n",
      "advertiser_id 20\n",
      "cost_type 2\n",
      "cost_type_id 2\n",
      "spend_type 5\n",
      "recency_config 8\n",
      "recency_config_id 5\n",
      "adx_category 2\n",
      "adx_category_id 2\n",
      "adx_product 2\n",
      "adx_product_category_id 2\n",
      "adx_product_category 2\n",
      "openx_category 2\n",
      "sifi_product_category_id 2\n",
      "sifi_product_category 2\n",
      "campaign_type 2\n",
      "spend_vs_perf 2\n",
      "domain 414\n",
      "data_provider 47\n",
      "is_advertiser 177\n",
      "ad 141\n",
      "ad_file_type 10\n",
      "ad_position 4\n",
      "segment 7\n",
      "browser 19\n",
      "os 18\n",
      "day_spend_flag 13\n",
      "conversions 7170\n",
      "keyword_with_data_provider_id 7910\n",
      "keyword_with_data_provider 1465\n",
      "dtime 572\n",
      "42 53\n",
      "campaign_id\n",
      "ad_id\n",
      "domain_id\n",
      "keyword_id\n",
      "context_id\n",
      "exchange_id\n",
      "segment_id\n",
      "mobile_app_id\n",
      "(101869, 86)\n"
     ]
    }
   ],
   "source": [
    "df_new3 = prepare_df(df_clicks,df_zero3)"
   ]
  },
  {
   "cell_type": "code",
   "execution_count": 16,
   "metadata": {
    "collapsed": false
   },
   "outputs": [
    {
     "data": {
      "text/plain": [
       "RandomForestClassifier(bootstrap=True, class_weight=None, criterion='gini',\n",
       "            max_depth=None, max_features='auto', max_leaf_nodes=None,\n",
       "            min_samples_leaf=1, min_samples_split=2,\n",
       "            min_weight_fraction_leaf=0.0, n_estimators=100, n_jobs=-1,\n",
       "            oob_score=False, random_state=None, verbose=0,\n",
       "            warm_start=False)"
      ]
     },
     "execution_count": 16,
     "metadata": {},
     "output_type": "execute_result"
    }
   ],
   "source": [
    "#pick a simple three-feature model from df_new2\n",
    "cols_use = ['spend_hours','imps','advertiser_id']\n",
    "X_train = df_new2[cols_use].values\n",
    "y_train = df_new2['clicks']\n",
    "clf = RandomForestClassifier(n_estimators=100,n_jobs=-1)\n",
    "clf.fit(X_train,y_train)"
   ]
  },
  {
   "cell_type": "code",
   "execution_count": 18,
   "metadata": {
    "collapsed": true
   },
   "outputs": [],
   "source": [
    "X_test = df_new3[cols_use].values\n",
    "y_test = df_new3['clicks']\n",
    "y_pred = clf.predict(X_test)"
   ]
  },
  {
   "cell_type": "code",
   "execution_count": 19,
   "metadata": {
    "collapsed": false
   },
   "outputs": [
    {
     "name": "stdout",
     "output_type": "stream",
     "text": [
      "1.0\n",
      "101869 101869\n"
     ]
    }
   ],
   "source": [
    "print metrics.roc_auc_score(y_test,y_pred)\n",
    "print len(y_test==y_pred),len(y_test)"
   ]
  },
  {
   "cell_type": "code",
   "execution_count": null,
   "metadata": {
    "collapsed": true
   },
   "outputs": [],
   "source": []
  }
 ],
 "metadata": {
  "kernelspec": {
   "display_name": "Python 2",
   "language": "python",
   "name": "python2"
  },
  "language_info": {
   "codemirror_mode": {
    "name": "ipython",
    "version": 2
   },
   "file_extension": ".py",
   "mimetype": "text/x-python",
   "name": "python",
   "nbconvert_exporter": "python",
   "pygments_lexer": "ipython2",
   "version": "2.7.11"
  }
 },
 "nbformat": 4,
 "nbformat_minor": 0
}
